{
 "cells": [
  {
   "cell_type": "markdown",
   "id": "552f72ce",
   "metadata": {},
   "source": [
    "# <center> Retail Price Prediction Using Decision Trees"
   ]
  },
  {
   "cell_type": "markdown",
   "id": "79070fcf",
   "metadata": {},
   "source": [
    "## Importing Libraries"
   ]
  },
  {
   "cell_type": "code",
   "execution_count": 31,
   "id": "55046c27",
   "metadata": {},
   "outputs": [],
   "source": [
    "import pandas as pd\n",
    "import numpy as np\n",
    "import matplotlib.pyplot as plt\n",
    "\n",
    "from sklearn.model_selection import train_test_split,RepeatedKFold,GridSearchCV\n",
    "from sklearn.metrics import mean_squared_error,mean_absolute_error,r2_score\n",
    "\n",
    "from sklearn.tree import DecisionTreeRegressor\n",
    "from sklearn.metrics import mean_absolute_error"
   ]
  },
  {
   "cell_type": "markdown",
   "id": "a3ac57a9",
   "metadata": {},
   "source": [
    "## Reading the Normalized Dataset"
   ]
  },
  {
   "cell_type": "markdown",
   "id": "e785424b",
   "metadata": {},
   "source": [
    "df = pd.read_csv(\"FinalDf.csv\")"
   ]
  },
  {
   "cell_type": "code",
   "execution_count": 3,
   "id": "9ec0ac26",
   "metadata": {},
   "outputs": [
    {
     "data": {
      "text/html": [
       "<div>\n",
       "<style scoped>\n",
       "    .dataframe tbody tr th:only-of-type {\n",
       "        vertical-align: middle;\n",
       "    }\n",
       "\n",
       "    .dataframe tbody tr th {\n",
       "        vertical-align: top;\n",
       "    }\n",
       "\n",
       "    .dataframe thead th {\n",
       "        text-align: right;\n",
       "    }\n",
       "</style>\n",
       "<table border=\"1\" class=\"dataframe\">\n",
       "  <thead>\n",
       "    <tr style=\"text-align: right;\">\n",
       "      <th></th>\n",
       "      <th>Unnamed: 0</th>\n",
       "      <th>State_Andhra Pradesh</th>\n",
       "      <th>State_Arunachal Pradesh</th>\n",
       "      <th>State_Assam</th>\n",
       "      <th>State_Bihar</th>\n",
       "      <th>State_Goa</th>\n",
       "      <th>State_Gujarat</th>\n",
       "      <th>State_Haryana</th>\n",
       "      <th>State_Himachal Pradesh</th>\n",
       "      <th>State_Jammu Kashmir</th>\n",
       "      <th>...</th>\n",
       "      <th>Unit_Dozen</th>\n",
       "      <th>Unit_80gm. Pkt</th>\n",
       "      <th>Unit_Litre</th>\n",
       "      <th>Unit_Kg</th>\n",
       "      <th>Unit_400/800 Gm</th>\n",
       "      <th>Unit_Peice</th>\n",
       "      <th>Unit_500gm. Pkt</th>\n",
       "      <th>Retail Price</th>\n",
       "      <th>Month</th>\n",
       "      <th>Year</th>\n",
       "    </tr>\n",
       "  </thead>\n",
       "  <tbody>\n",
       "    <tr>\n",
       "      <th>0</th>\n",
       "      <td>0</td>\n",
       "      <td>1</td>\n",
       "      <td>0</td>\n",
       "      <td>0</td>\n",
       "      <td>0</td>\n",
       "      <td>0</td>\n",
       "      <td>0</td>\n",
       "      <td>0</td>\n",
       "      <td>0</td>\n",
       "      <td>0</td>\n",
       "      <td>...</td>\n",
       "      <td>0</td>\n",
       "      <td>0</td>\n",
       "      <td>0</td>\n",
       "      <td>0</td>\n",
       "      <td>0</td>\n",
       "      <td>0</td>\n",
       "      <td>0</td>\n",
       "      <td>24.0</td>\n",
       "      <td>1</td>\n",
       "      <td>2001</td>\n",
       "    </tr>\n",
       "    <tr>\n",
       "      <th>1</th>\n",
       "      <td>1</td>\n",
       "      <td>1</td>\n",
       "      <td>0</td>\n",
       "      <td>0</td>\n",
       "      <td>0</td>\n",
       "      <td>0</td>\n",
       "      <td>0</td>\n",
       "      <td>0</td>\n",
       "      <td>0</td>\n",
       "      <td>0</td>\n",
       "      <td>...</td>\n",
       "      <td>0</td>\n",
       "      <td>0</td>\n",
       "      <td>0</td>\n",
       "      <td>0</td>\n",
       "      <td>0</td>\n",
       "      <td>0</td>\n",
       "      <td>0</td>\n",
       "      <td>26.0</td>\n",
       "      <td>1</td>\n",
       "      <td>2001</td>\n",
       "    </tr>\n",
       "    <tr>\n",
       "      <th>2</th>\n",
       "      <td>2</td>\n",
       "      <td>1</td>\n",
       "      <td>0</td>\n",
       "      <td>0</td>\n",
       "      <td>0</td>\n",
       "      <td>0</td>\n",
       "      <td>0</td>\n",
       "      <td>0</td>\n",
       "      <td>0</td>\n",
       "      <td>0</td>\n",
       "      <td>...</td>\n",
       "      <td>0</td>\n",
       "      <td>0</td>\n",
       "      <td>0</td>\n",
       "      <td>0</td>\n",
       "      <td>0</td>\n",
       "      <td>0</td>\n",
       "      <td>0</td>\n",
       "      <td>25.5</td>\n",
       "      <td>1</td>\n",
       "      <td>2001</td>\n",
       "    </tr>\n",
       "    <tr>\n",
       "      <th>3</th>\n",
       "      <td>10</td>\n",
       "      <td>0</td>\n",
       "      <td>0</td>\n",
       "      <td>0</td>\n",
       "      <td>1</td>\n",
       "      <td>0</td>\n",
       "      <td>0</td>\n",
       "      <td>0</td>\n",
       "      <td>0</td>\n",
       "      <td>0</td>\n",
       "      <td>...</td>\n",
       "      <td>0</td>\n",
       "      <td>0</td>\n",
       "      <td>0</td>\n",
       "      <td>0</td>\n",
       "      <td>0</td>\n",
       "      <td>0</td>\n",
       "      <td>0</td>\n",
       "      <td>28.0</td>\n",
       "      <td>1</td>\n",
       "      <td>2001</td>\n",
       "    </tr>\n",
       "    <tr>\n",
       "      <th>4</th>\n",
       "      <td>12</td>\n",
       "      <td>0</td>\n",
       "      <td>0</td>\n",
       "      <td>0</td>\n",
       "      <td>1</td>\n",
       "      <td>0</td>\n",
       "      <td>0</td>\n",
       "      <td>0</td>\n",
       "      <td>0</td>\n",
       "      <td>0</td>\n",
       "      <td>...</td>\n",
       "      <td>0</td>\n",
       "      <td>0</td>\n",
       "      <td>0</td>\n",
       "      <td>0</td>\n",
       "      <td>0</td>\n",
       "      <td>0</td>\n",
       "      <td>0</td>\n",
       "      <td>27.0</td>\n",
       "      <td>1</td>\n",
       "      <td>2001</td>\n",
       "    </tr>\n",
       "  </tbody>\n",
       "</table>\n",
       "<p>5 rows × 208 columns</p>\n",
       "</div>"
      ],
      "text/plain": [
       "   Unnamed: 0  State_Andhra Pradesh  State_Arunachal Pradesh  State_Assam  \\\n",
       "0           0                     1                        0            0   \n",
       "1           1                     1                        0            0   \n",
       "2           2                     1                        0            0   \n",
       "3          10                     0                        0            0   \n",
       "4          12                     0                        0            0   \n",
       "\n",
       "   State_Bihar  State_Goa  State_Gujarat  State_Haryana  \\\n",
       "0            0          0              0              0   \n",
       "1            0          0              0              0   \n",
       "2            0          0              0              0   \n",
       "3            1          0              0              0   \n",
       "4            1          0              0              0   \n",
       "\n",
       "   State_Himachal Pradesh  State_Jammu Kashmir  ...  Unit_Dozen  \\\n",
       "0                       0                    0  ...           0   \n",
       "1                       0                    0  ...           0   \n",
       "2                       0                    0  ...           0   \n",
       "3                       0                    0  ...           0   \n",
       "4                       0                    0  ...           0   \n",
       "\n",
       "   Unit_80gm. Pkt  Unit_Litre  Unit_Kg  Unit_400/800 Gm  Unit_Peice  \\\n",
       "0               0           0        0                0           0   \n",
       "1               0           0        0                0           0   \n",
       "2               0           0        0                0           0   \n",
       "3               0           0        0                0           0   \n",
       "4               0           0        0                0           0   \n",
       "\n",
       "   Unit_500gm. Pkt  Retail Price  Month  Year  \n",
       "0                0          24.0      1  2001  \n",
       "1                0          26.0      1  2001  \n",
       "2                0          25.5      1  2001  \n",
       "3                0          28.0      1  2001  \n",
       "4                0          27.0      1  2001  \n",
       "\n",
       "[5 rows x 208 columns]"
      ]
     },
     "execution_count": 3,
     "metadata": {},
     "output_type": "execute_result"
    }
   ],
   "source": [
    "df.head()"
   ]
  },
  {
   "cell_type": "markdown",
   "id": "49a2d83b",
   "metadata": {},
   "source": [
    "## Model Training"
   ]
  },
  {
   "cell_type": "markdown",
   "id": "da715efe",
   "metadata": {},
   "source": [
    "### Separating the X and Y variables"
   ]
  },
  {
   "cell_type": "code",
   "execution_count": 4,
   "id": "3c4616b3",
   "metadata": {},
   "outputs": [],
   "source": [
    "X = df.drop(\"Retail Price\",axis = 1)\n",
    "Y = df[\"Retail Price\"]"
   ]
  },
  {
   "cell_type": "markdown",
   "id": "4971e4bc",
   "metadata": {},
   "source": [
    "### Splitting the Dataset into training and testing datasets\n",
    "Since the dataset is very large, we will be separating the dataset into training and testing dataset in case of Decision Tree Model Training as well."
   ]
  },
  {
   "cell_type": "code",
   "execution_count": 9,
   "id": "33f510e5",
   "metadata": {},
   "outputs": [],
   "source": [
    "X_train,X_test,Y_train,Y_test = train_test_split(X,Y,random_state=0,test_size = 0.25)"
   ]
  },
  {
   "cell_type": "code",
   "execution_count": 17,
   "id": "6ec1f659",
   "metadata": {},
   "outputs": [
    {
     "data": {
      "text/plain": [
       "(860584, 207)"
      ]
     },
     "execution_count": 17,
     "metadata": {},
     "output_type": "execute_result"
    }
   ],
   "source": [
    "X_train.shape"
   ]
  },
  {
   "cell_type": "markdown",
   "id": "4c59cf41",
   "metadata": {},
   "source": [
    "### Initializing the model using regressor variable"
   ]
  },
  {
   "cell_type": "code",
   "execution_count": 13,
   "id": "ad623054",
   "metadata": {},
   "outputs": [],
   "source": [
    "regressor = DecisionTreeRegressor(random_state=0)"
   ]
  },
  {
   "cell_type": "markdown",
   "id": "509e70af",
   "metadata": {},
   "source": [
    "### Training the Model on Training Dataset"
   ]
  },
  {
   "cell_type": "code",
   "execution_count": 14,
   "id": "223e2ef5",
   "metadata": {},
   "outputs": [
    {
     "data": {
      "text/plain": [
       "DecisionTreeRegressor(random_state=0)"
      ]
     },
     "execution_count": 14,
     "metadata": {},
     "output_type": "execute_result"
    }
   ],
   "source": [
    "regressor.fit(X_train,Y_train)"
   ]
  },
  {
   "cell_type": "markdown",
   "id": "51ffe831",
   "metadata": {},
   "source": [
    "### Predicting outcome of first record in test dataset"
   ]
  },
  {
   "cell_type": "code",
   "execution_count": 29,
   "id": "b8fd31ec",
   "metadata": {},
   "outputs": [],
   "source": [
    "y_pred = regressor.predict([X_test.iloc[0, :]]) "
   ]
  },
  {
   "cell_type": "code",
   "execution_count": 30,
   "id": "530f9056",
   "metadata": {},
   "outputs": [
    {
     "data": {
      "text/plain": [
       "array([25.])"
      ]
     },
     "execution_count": 30,
     "metadata": {},
     "output_type": "execute_result"
    }
   ],
   "source": [
    "y_pred"
   ]
  },
  {
   "cell_type": "markdown",
   "id": "44ca5888",
   "metadata": {},
   "source": [
    "### Predicting the Outcome of on test dataset"
   ]
  },
  {
   "cell_type": "code",
   "execution_count": 34,
   "id": "34638b85",
   "metadata": {},
   "outputs": [],
   "source": [
    "y_pred = regressor.predict(X_test) "
   ]
  },
  {
   "cell_type": "markdown",
   "id": "0718cdd9",
   "metadata": {},
   "source": [
    "## Accuracy of Model"
   ]
  },
  {
   "cell_type": "markdown",
   "id": "9a79a592",
   "metadata": {},
   "source": [
    "### Calculating the Mean Absolute Error"
   ]
  },
  {
   "cell_type": "code",
   "execution_count": 33,
   "id": "2ba2c749",
   "metadata": {},
   "outputs": [
    {
     "data": {
      "text/plain": [
       "4.848201142220197"
      ]
     },
     "execution_count": 33,
     "metadata": {},
     "output_type": "execute_result"
    }
   ],
   "source": [
    "mean_absolute_error(Y_test, regressor.predict(X_test))"
   ]
  },
  {
   "cell_type": "markdown",
   "id": "1d1cbb7b",
   "metadata": {},
   "source": [
    "### Calculating Prediction Score"
   ]
  },
  {
   "cell_type": "code",
   "execution_count": 36,
   "id": "ead5bdf3",
   "metadata": {},
   "outputs": [
    {
     "data": {
      "text/plain": [
       "0.8396528664019275"
      ]
     },
     "execution_count": 36,
     "metadata": {},
     "output_type": "execute_result"
    }
   ],
   "source": [
    "r2_score(y_pred,Y_test)"
   ]
  }
 ],
 "metadata": {
  "kernelspec": {
   "display_name": "Python 3",
   "language": "python",
   "name": "python3"
  },
  "language_info": {
   "codemirror_mode": {
    "name": "ipython",
    "version": 3
   },
   "file_extension": ".py",
   "mimetype": "text/x-python",
   "name": "python",
   "nbconvert_exporter": "python",
   "pygments_lexer": "ipython3",
   "version": "3.8.8"
  }
 },
 "nbformat": 4,
 "nbformat_minor": 5
}
