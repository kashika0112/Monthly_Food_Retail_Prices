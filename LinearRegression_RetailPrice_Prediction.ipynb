{
 "cells": [
  {
   "cell_type": "markdown",
   "id": "dc3b912c",
   "metadata": {},
   "source": [
    "# <center> Retail Price Prediction Using Linear Regression"
   ]
  },
  {
   "cell_type": "markdown",
   "id": "c03c4030",
   "metadata": {},
   "source": [
    "## Importing Libraries"
   ]
  },
  {
   "cell_type": "code",
   "execution_count": 1,
   "id": "dcdecfaa",
   "metadata": {},
   "outputs": [],
   "source": [
    "import pandas as pd\n",
    "import numpy as np\n",
    "import matplotlib.pyplot as plt\n",
    "\n",
    "from sklearn.linear_model import LinearRegression,Ridge\n",
    "from sklearn.model_selection import train_test_split,RepeatedKFold,GridSearchCV\n",
    "from sklearn.metrics import mean_squared_error,mean_absolute_error,r2_score"
   ]
  },
  {
   "cell_type": "markdown",
   "id": "ee761c9c",
   "metadata": {},
   "source": [
    "## Reading the Normalized Dataset"
   ]
  },
  {
   "cell_type": "code",
   "execution_count": 2,
   "id": "8bc22a14",
   "metadata": {},
   "outputs": [],
   "source": [
    "df = pd.read_csv(\"FinalDf.csv\")"
   ]
  },
  {
   "cell_type": "code",
   "execution_count": 3,
   "id": "ed1406aa",
   "metadata": {},
   "outputs": [
    {
     "data": {
      "text/html": [
       "<div>\n",
       "<style scoped>\n",
       "    .dataframe tbody tr th:only-of-type {\n",
       "        vertical-align: middle;\n",
       "    }\n",
       "\n",
       "    .dataframe tbody tr th {\n",
       "        vertical-align: top;\n",
       "    }\n",
       "\n",
       "    .dataframe thead th {\n",
       "        text-align: right;\n",
       "    }\n",
       "</style>\n",
       "<table border=\"1\" class=\"dataframe\">\n",
       "  <thead>\n",
       "    <tr style=\"text-align: right;\">\n",
       "      <th></th>\n",
       "      <th>Unnamed: 0</th>\n",
       "      <th>State_Andhra Pradesh</th>\n",
       "      <th>State_Arunachal Pradesh</th>\n",
       "      <th>State_Assam</th>\n",
       "      <th>State_Bihar</th>\n",
       "      <th>State_Goa</th>\n",
       "      <th>State_Gujarat</th>\n",
       "      <th>State_Haryana</th>\n",
       "      <th>State_Himachal Pradesh</th>\n",
       "      <th>State_Jammu Kashmir</th>\n",
       "      <th>...</th>\n",
       "      <th>Unit_Dozen</th>\n",
       "      <th>Unit_80gm. Pkt</th>\n",
       "      <th>Unit_Litre</th>\n",
       "      <th>Unit_Kg</th>\n",
       "      <th>Unit_400/800 Gm</th>\n",
       "      <th>Unit_Peice</th>\n",
       "      <th>Unit_500gm. Pkt</th>\n",
       "      <th>Retail Price</th>\n",
       "      <th>Month</th>\n",
       "      <th>Year</th>\n",
       "    </tr>\n",
       "  </thead>\n",
       "  <tbody>\n",
       "    <tr>\n",
       "      <th>0</th>\n",
       "      <td>0</td>\n",
       "      <td>1</td>\n",
       "      <td>0</td>\n",
       "      <td>0</td>\n",
       "      <td>0</td>\n",
       "      <td>0</td>\n",
       "      <td>0</td>\n",
       "      <td>0</td>\n",
       "      <td>0</td>\n",
       "      <td>0</td>\n",
       "      <td>...</td>\n",
       "      <td>0</td>\n",
       "      <td>0</td>\n",
       "      <td>0</td>\n",
       "      <td>0</td>\n",
       "      <td>0</td>\n",
       "      <td>0</td>\n",
       "      <td>0</td>\n",
       "      <td>24.0</td>\n",
       "      <td>1</td>\n",
       "      <td>2001</td>\n",
       "    </tr>\n",
       "    <tr>\n",
       "      <th>1</th>\n",
       "      <td>1</td>\n",
       "      <td>1</td>\n",
       "      <td>0</td>\n",
       "      <td>0</td>\n",
       "      <td>0</td>\n",
       "      <td>0</td>\n",
       "      <td>0</td>\n",
       "      <td>0</td>\n",
       "      <td>0</td>\n",
       "      <td>0</td>\n",
       "      <td>...</td>\n",
       "      <td>0</td>\n",
       "      <td>0</td>\n",
       "      <td>0</td>\n",
       "      <td>0</td>\n",
       "      <td>0</td>\n",
       "      <td>0</td>\n",
       "      <td>0</td>\n",
       "      <td>26.0</td>\n",
       "      <td>1</td>\n",
       "      <td>2001</td>\n",
       "    </tr>\n",
       "    <tr>\n",
       "      <th>2</th>\n",
       "      <td>2</td>\n",
       "      <td>1</td>\n",
       "      <td>0</td>\n",
       "      <td>0</td>\n",
       "      <td>0</td>\n",
       "      <td>0</td>\n",
       "      <td>0</td>\n",
       "      <td>0</td>\n",
       "      <td>0</td>\n",
       "      <td>0</td>\n",
       "      <td>...</td>\n",
       "      <td>0</td>\n",
       "      <td>0</td>\n",
       "      <td>0</td>\n",
       "      <td>0</td>\n",
       "      <td>0</td>\n",
       "      <td>0</td>\n",
       "      <td>0</td>\n",
       "      <td>25.5</td>\n",
       "      <td>1</td>\n",
       "      <td>2001</td>\n",
       "    </tr>\n",
       "    <tr>\n",
       "      <th>3</th>\n",
       "      <td>10</td>\n",
       "      <td>0</td>\n",
       "      <td>0</td>\n",
       "      <td>0</td>\n",
       "      <td>1</td>\n",
       "      <td>0</td>\n",
       "      <td>0</td>\n",
       "      <td>0</td>\n",
       "      <td>0</td>\n",
       "      <td>0</td>\n",
       "      <td>...</td>\n",
       "      <td>0</td>\n",
       "      <td>0</td>\n",
       "      <td>0</td>\n",
       "      <td>0</td>\n",
       "      <td>0</td>\n",
       "      <td>0</td>\n",
       "      <td>0</td>\n",
       "      <td>28.0</td>\n",
       "      <td>1</td>\n",
       "      <td>2001</td>\n",
       "    </tr>\n",
       "    <tr>\n",
       "      <th>4</th>\n",
       "      <td>12</td>\n",
       "      <td>0</td>\n",
       "      <td>0</td>\n",
       "      <td>0</td>\n",
       "      <td>1</td>\n",
       "      <td>0</td>\n",
       "      <td>0</td>\n",
       "      <td>0</td>\n",
       "      <td>0</td>\n",
       "      <td>0</td>\n",
       "      <td>...</td>\n",
       "      <td>0</td>\n",
       "      <td>0</td>\n",
       "      <td>0</td>\n",
       "      <td>0</td>\n",
       "      <td>0</td>\n",
       "      <td>0</td>\n",
       "      <td>0</td>\n",
       "      <td>27.0</td>\n",
       "      <td>1</td>\n",
       "      <td>2001</td>\n",
       "    </tr>\n",
       "  </tbody>\n",
       "</table>\n",
       "<p>5 rows × 208 columns</p>\n",
       "</div>"
      ],
      "text/plain": [
       "   Unnamed: 0  State_Andhra Pradesh  State_Arunachal Pradesh  State_Assam  \\\n",
       "0           0                     1                        0            0   \n",
       "1           1                     1                        0            0   \n",
       "2           2                     1                        0            0   \n",
       "3          10                     0                        0            0   \n",
       "4          12                     0                        0            0   \n",
       "\n",
       "   State_Bihar  State_Goa  State_Gujarat  State_Haryana  \\\n",
       "0            0          0              0              0   \n",
       "1            0          0              0              0   \n",
       "2            0          0              0              0   \n",
       "3            1          0              0              0   \n",
       "4            1          0              0              0   \n",
       "\n",
       "   State_Himachal Pradesh  State_Jammu Kashmir  ...  Unit_Dozen  \\\n",
       "0                       0                    0  ...           0   \n",
       "1                       0                    0  ...           0   \n",
       "2                       0                    0  ...           0   \n",
       "3                       0                    0  ...           0   \n",
       "4                       0                    0  ...           0   \n",
       "\n",
       "   Unit_80gm. Pkt  Unit_Litre  Unit_Kg  Unit_400/800 Gm  Unit_Peice  \\\n",
       "0               0           0        0                0           0   \n",
       "1               0           0        0                0           0   \n",
       "2               0           0        0                0           0   \n",
       "3               0           0        0                0           0   \n",
       "4               0           0        0                0           0   \n",
       "\n",
       "   Unit_500gm. Pkt  Retail Price  Month  Year  \n",
       "0                0          24.0      1  2001  \n",
       "1                0          26.0      1  2001  \n",
       "2                0          25.5      1  2001  \n",
       "3                0          28.0      1  2001  \n",
       "4                0          27.0      1  2001  \n",
       "\n",
       "[5 rows x 208 columns]"
      ]
     },
     "execution_count": 3,
     "metadata": {},
     "output_type": "execute_result"
    }
   ],
   "source": [
    "df.head()"
   ]
  },
  {
   "cell_type": "code",
   "execution_count": 4,
   "id": "f095d39f",
   "metadata": {},
   "outputs": [
    {
     "data": {
      "text/plain": [
       "(1147446, 208)"
      ]
     },
     "execution_count": 4,
     "metadata": {},
     "output_type": "execute_result"
    }
   ],
   "source": [
    "df.shape"
   ]
  },
  {
   "cell_type": "markdown",
   "id": "47bda684",
   "metadata": {},
   "source": [
    "## Model Training"
   ]
  },
  {
   "cell_type": "markdown",
   "id": "34febbc1",
   "metadata": {},
   "source": [
    "### Separating the X and Y variables"
   ]
  },
  {
   "cell_type": "code",
   "execution_count": 5,
   "id": "93c786b9",
   "metadata": {},
   "outputs": [],
   "source": [
    "X = df.drop(\"Retail Price\",axis = 1)\n",
    "Y = df[\"Retail Price\"]"
   ]
  },
  {
   "cell_type": "markdown",
   "id": "c6d8d8ec",
   "metadata": {},
   "source": [
    "### Splitting the Dataset into training and testing datasets"
   ]
  },
  {
   "cell_type": "code",
   "execution_count": 6,
   "id": "c4e5c120",
   "metadata": {},
   "outputs": [],
   "source": [
    "X_train,X_test,Y_train,Y_test = train_test_split(X,Y,random_state=27,test_size = 0.25)"
   ]
  },
  {
   "cell_type": "markdown",
   "id": "4a9a7d70",
   "metadata": {},
   "source": [
    "## Using a Linear Regression Model"
   ]
  },
  {
   "cell_type": "markdown",
   "id": "27a26513",
   "metadata": {},
   "source": [
    "### Initializing the model using a variable"
   ]
  },
  {
   "cell_type": "code",
   "execution_count": 7,
   "id": "62fefb87",
   "metadata": {},
   "outputs": [],
   "source": [
    "lr = LinearRegression()"
   ]
  },
  {
   "cell_type": "markdown",
   "id": "76674d7a",
   "metadata": {},
   "source": [
    "### Training the Model on Training Dataset"
   ]
  },
  {
   "cell_type": "code",
   "execution_count": 8,
   "id": "9898d271",
   "metadata": {},
   "outputs": [
    {
     "data": {
      "text/plain": [
       "LinearRegression()"
      ]
     },
     "execution_count": 8,
     "metadata": {},
     "output_type": "execute_result"
    }
   ],
   "source": [
    "lr.fit(X_train,Y_train)"
   ]
  },
  {
   "cell_type": "markdown",
   "id": "2c1e516e",
   "metadata": {},
   "source": [
    "### Predicting outcome of the test dataset"
   ]
  },
  {
   "cell_type": "code",
   "execution_count": 10,
   "id": "5dae7cd8",
   "metadata": {},
   "outputs": [],
   "source": [
    "Y_pred_lr = lr.predict(X_test)"
   ]
  },
  {
   "cell_type": "markdown",
   "id": "1cb2f158",
   "metadata": {},
   "source": [
    "## Evaluating the Model"
   ]
  },
  {
   "cell_type": "code",
   "execution_count": 16,
   "id": "3dcb832c",
   "metadata": {},
   "outputs": [
    {
     "name": "stdout",
     "output_type": "stream",
     "text": [
      "Intercept:  -11297.76055368961\n",
      "Coefficients:\n"
     ]
    },
    {
     "data": {
      "text/plain": [
       "[('Unnamed: 0', -2.1289376311285324e-05),\n",
       " ('State_Andhra Pradesh', -6.279621992155683),\n",
       " ('State_Arunachal Pradesh', -6.209187483954537),\n",
       " ('State_Assam', 0.7727889163447408),\n",
       " ('State_Bihar', 4.167005639248515),\n",
       " ('State_Goa', -0.6689771196211254),\n",
       " ('State_Gujarat', -5.711880114180479),\n",
       " ('State_Haryana', 0.6182270579644111),\n",
       " ('State_Himachal Pradesh', 0.004256485546108024),\n",
       " ('State_Jammu Kashmir', -3.0185739799177913),\n",
       " ('State_Jharkhand', 0.8517182560730715),\n",
       " ('State_Karnataka', -4.133925467540995),\n",
       " ('State_Kerala', -5.596997610079419),\n",
       " ('State_Madhya Pradesh', -2.5937569918534416),\n",
       " ('State_Maharashtra', 1.2944322485417623),\n",
       " ('State_Manipur', 10.37594553086673),\n",
       " ('State_Meghalaya', -2.4502839751118013),\n",
       " ('State_Mizoram', 4.785247297091312),\n",
       " ('State_Nagaland', 0.49165454707155715),\n",
       " ('State_National Capital', -2.3716551973686437),\n",
       " ('State_Orissa', -8.81864265155295),\n",
       " ('State_Punjab', 0.07003189654740294),\n",
       " ('State_Rajasthan', -0.8420163610438578),\n",
       " ('State_Sikkim', 11.812938927005929),\n",
       " ('State_Tamil Nadu', -7.012474148196132),\n",
       " ('State_Telangana', -3.9135944769465314),\n",
       " ('State_Tripura', 3.3403806449642035),\n",
       " ('State_Union Territories', -0.6657326708951223),\n",
       " ('State_Uttar Pradesh', 2.260848458679689),\n",
       " ('State_Uttarakhand', 13.120432294343525),\n",
       " ('State_West Bengal', 6.321411899963771),\n",
       " ('Centre_Chittoor', -3.0721384020287954),\n",
       " ('Centre_Guntur', 6.338182516573259),\n",
       " ('Centre_Kurnool', -8.068174708429446),\n",
       " ('Centre_Vishakhapatnam', -1.47749111180435),\n",
       " ('Centre_Itanagar', -6.2091875804671055),\n",
       " ('Centre_Dibrugarh', 3.284832739173793),\n",
       " ('Centre_Dispur', -1.1104661123333648),\n",
       " ('Centre_Guwahati', -0.2833002343362812),\n",
       " ('Centre_Silchar', -1.1182775087410275),\n",
       " ('Centre_Gaya', -1.259978597451147),\n",
       " ('Centre_Hajipur', 1.6846409827420379),\n",
       " ('Centre_Muzaffarpur', 4.206521905099304),\n",
       " ('Centre_Patna', -0.4641786469273599),\n",
       " ('Centre_Panaji', -0.6689770895086368),\n",
       " ('Centre_Gandhi Nagar', -4.807653255289516),\n",
       " ('Centre_Rajkot', 4.012413260937701),\n",
       " ('Centre_Surat', -11.367433859262928),\n",
       " ('Centre_Vadodra', 6.450793725314599),\n",
       " ('Centre_Hissar', -0.546046583316832),\n",
       " ('Centre_Karnal', 1.1642736379741638),\n",
       " ('Centre_Mandi', -2.2546444582126535),\n",
       " ('Centre_Shimla', 2.2589009183472815),\n",
       " ('Centre_Jammu', -1.4043846466696235),\n",
       " ('Centre_Shrinagar', -1.6141893436616666),\n",
       " ('Centre_Dhanbad', -0.8421055277986021),\n",
       " ('Centre_Ranchi', 1.693823771712266),\n",
       " ('Centre_Bangalore', -3.6588987179166956),\n",
       " ('Centre_Bijapur', -6.591236814647705),\n",
       " ('Centre_Hubli', 13.66132904203076),\n",
       " ('Centre_Tumkur', -7.545118978760385),\n",
       " ('Centre_Ernakulam', -3.5746275728601864),\n",
       " ('Centre_Khozhikode', -1.6946359324508178),\n",
       " ('Centre_Trivandrum', -0.3277341056879295),\n",
       " ('Centre_Bhillai', 7.870191350284645),\n",
       " ('Centre_Bhopal', 0.8380556530378372),\n",
       " ('Centre_Gwalior', -7.599590810116699),\n",
       " ('Centre_Indore', -11.154715666133006),\n",
       " ('Centre_Rewa', 10.319046037551766),\n",
       " ('Centre_Sehore', -2.8667435552493377),\n",
       " ('Centre_Aurangabad', -8.879502341865573),\n",
       " ('Centre_Mumbai', 6.182291450775126),\n",
       " ('Centre_Nagpur', 5.598541941493641),\n",
       " ('Centre_Nasik', -2.085856002203662),\n",
       " ('Centre_Pune', 0.478957199625188),\n",
       " ('Centre_Imphal', 10.375945528543394),\n",
       " ('Centre_Shillong', -2.45028397432456),\n",
       " ('Centre_Aizwal', 4.785247296791897),\n",
       " ('Centre_Kohima', 0.49165454839726525),\n",
       " ('Centre_Delhi', -2.3716552017487436),\n",
       " ('Centre_Bhawanipatna', -8.299480361277606),\n",
       " ('Centre_Bhubneshwar', 1.1022794447826298),\n",
       " ('Centre_Cuttack', -1.6214417397814598),\n",
       " ('Centre_Amritsar', 2.576981155157452),\n",
       " ('Centre_Bhatinda', 2.8474737988434633),\n",
       " ('Centre_Ludhiana', -5.354423058504501),\n",
       " ('Centre_Dausa', -1.293973807143605),\n",
       " ('Centre_Jaipur', 3.605642181068965),\n",
       " ('Centre_Jodhpur', -2.987591741058406),\n",
       " ('Centre_Swaimadhopur', -4.973616012872361),\n",
       " ('Centre_Udaipur', 4.8075230159187),\n",
       " ('Centre_Gangtok', 11.812938928386636),\n",
       " ('Centre_Chennai', 7.5224353590113155),\n",
       " ('Centre_Coimbatore', 2.496928804796555),\n",
       " ('Centre_Madurai', -4.471292943454852),\n",
       " ('Centre_Salem', -0.17249359673381764),\n",
       " ('Centre_Tambram', -9.939860789669922),\n",
       " ('Centre_Tirunelveli', -2.448190980471108),\n",
       " ('Centre_Hyderabad', -3.913594481755486),\n",
       " ('Centre_Agartala', 3.340380644047871),\n",
       " ('Centre_Chandigarh', -6.834948721345617),\n",
       " ('Centre_Pondicherry', -8.70376771926917),\n",
       " ('Centre_Portblair', 10.935477581809248),\n",
       " ('Centre_Silvasa', 3.937506185801658),\n",
       " ('Centre_Agra', 1.1853280934056174),\n",
       " ('Centre_Allahabad', 7.064248355521718),\n",
       " ('Centre_Gorakhpur', -3.6811007838723873),\n",
       " ('Centre_Kanpur', -4.148255245454757),\n",
       " ('Centre_Lucknow', -0.9665420146004101),\n",
       " ('Centre_Saharanpur', 2.807170056807165),\n",
       " ('Centre_Haldwani', 10.685448766717524),\n",
       " ('Centre_Srinagar', 2.434983524771277),\n",
       " ('Centre_Asansol', -8.253688547388887),\n",
       " ('Centre_Howrah', 3.208941947201797),\n",
       " ('Centre_Jalpaiguri', -13.168230208780372),\n",
       " ('Centre_Kolkata', -1.9221129562343295),\n",
       " ('Centre_Malda', 26.456501666905684),\n",
       " ('Commodity_Moong', -76.16351083900521),\n",
       " ('Commodity_Not Available', -27.8551436292962),\n",
       " ('Commodity_Mustard Oil', -35.696645378422325),\n",
       " ('Commodity_Onion', -4.158013277608806),\n",
       " ('Commodity_Potato', -9.50149655354407),\n",
       " ('Commodity_Ragi', -0.08141239458077365),\n",
       " ('Commodity_Red Chillies', -6.244211083075992),\n",
       " ('Commodity_Rice', 18.70214213481475),\n",
       " ('Commodity_Salt', 8.767389984045842),\n",
       " ('Commodity_Sugar', 5.540476852946053),\n",
       " ('Commodity_Suji', 0.7577130253283251),\n",
       " ('Commodity_Tea', 10.496760829518351),\n",
       " ('Commodity_Apple', 36.56516738625475),\n",
       " ('Commodity_Arhar', -74.1677598768295),\n",
       " ('Commodity_Atta', 1.6253026196261482),\n",
       " ('Commodity_Bajra', -2.6890788393873706),\n",
       " ('Commodity_Banana', 0.43648649156704344),\n",
       " ('Commodity_Besan', 36.308118271722066),\n",
       " ('Commodity_Biscuit', -37.82903112878691),\n",
       " ('Commodity_Groundnut Oil', -11.65890801814043),\n",
       " ('Commodity_Gur', 5.990507667204142),\n",
       " ('Commodity_Jowar', -18.990766145152946),\n",
       " ('Commodity_Maida', 6.913384818786212),\n",
       " ('Commodity_Maize', -1.2180624738070236),\n",
       " ('Commodity_Masur', -82.9199143087835),\n",
       " ('Commodity_Meat', -23.498635268879287),\n",
       " ('Commodity_Milk', -34.17612471402185),\n",
       " ('Commodity_Coriander', 4.4070018729306355),\n",
       " ('Commodity_Cummin Seed', 29.210517207369882),\n",
       " ('Commodity_Eggs', 22.238790717380443),\n",
       " ('Commodity_Fish', -36.87405622383771),\n",
       " ('Commodity_Ghee', 48.795132088856775),\n",
       " ('Commodity_Gingelly Oil', 18.526349143671816),\n",
       " ('Commodity_Gram', -84.56672989882037),\n",
       " ('Commodity_Black Pepper', 282.0395166346662),\n",
       " ('Commodity_Bread', 8.311074996652437),\n",
       " ('Commodity_Brinjal', 12.407197116740456),\n",
       " ('Commodity_Butter', 8.633928764824365),\n",
       " ('Commodity_Chicken', 8.761444001979417),\n",
       " ('Commodity_Coconut', 11.48196888531405),\n",
       " ('Commodity_Coconut Oil', 42.599926142836786),\n",
       " ('Commodity_Coffee', 245.4635456274671),\n",
       " ('Commodity_Tomato', 16.00102827420758),\n",
       " ('Commodity_Turmeric', 12.229380282735239),\n",
       " ('Commodity_Urad', -56.3494751692492),\n",
       " ('Commodity_Vanaspati', -34.56027535518399),\n",
       " ('Commodity_Wheat', -244.01100120868566),\n",
       " ('Variety_Split', 15.51345124599423),\n",
       " ('Variety_FAQ', -104.92312345944208),\n",
       " ('Variety_Powdered Agmark', -38.07124422915557),\n",
       " ('Variety_Common/Coarse', -126.14774953462737),\n",
       " ('Variety_Fine', -117.35888912096667),\n",
       " ('Variety_Superfine', -106.00269591229694),\n",
       " ('Variety_Loose(common)', -128.96275066295658),\n",
       " ('Variety_Packet(iodized)', -131.43390329233682),\n",
       " ('Variety_Brooke Bond Red Label', -30.25855141585063),\n",
       " ('Variety_Ctc(loose)', 40.755312236050514),\n",
       " ('Variety_Delicious medium size', -70.24163452458149),\n",
       " ('Variety_Glucose', -37.82903111701329),\n",
       " ('Variety_Local', -91.59173500170975),\n",
       " ('Variety_White', -81.250431679178),\n",
       " ('Variety_Mutton', 196.96996005851335),\n",
       " ('Variety_Cow/Buffalo', -16.031744289295),\n",
       " ('Variety_Dairy', -18.144380392347063),\n",
       " ('Variety_Common', 41.6243979233254),\n",
       " ('Variety_Cat Fish', 109.17277347776178),\n",
       " ('Variety_Pomphret', 189.4673783954322),\n",
       " ('Variety_Rohu 1Kg Size', 25.048587295982585),\n",
       " ('Variety_Desi', 152.48333245460802),\n",
       " ('Variety_Whole', 17.00662321824563),\n",
       " ('Variety_Amul/Any Other', -23.083063673169097),\n",
       " ('Variety_Poultry', 1.6126335973440948),\n",
       " ('Variety_Dry', -14.899456352220959),\n",
       " ('Variety_Fresh', -52.72617964765726),\n",
       " ('Variety_Instant', 76.76682822740382),\n",
       " ('Variety_Powdered', 168.69671738573678),\n",
       " ('Variety_Kalyan HYV', 153.83856879628843),\n",
       " ('Unit_Kg.', 4.9952836753984045),\n",
       " ('Unit_Kg/Litre', 103.05809625623048),\n",
       " ('Unit_100gm. Pkt', -61.15430788648026),\n",
       " ('Unit_250gm. Pkt', -30.25855141527338),\n",
       " ('Unit_Dozen', 13.339993656767971),\n",
       " ('Unit_80gm. Pkt', -37.82903111701329),\n",
       " ('Unit_Litre', -34.17612467022903),\n",
       " ('Unit_Kg', 25.048587294003894),\n",
       " ('Unit_400/800 Gm', -7.064594356455414),\n",
       " ('Unit_Peice', -52.726179645801615),\n",
       " ('Unit_500gm. Pkt', 76.76682822927683),\n",
       " ('Month', 0.48473317657283665),\n",
       " ('Year', 5.679836634022432)]"
      ]
     },
     "execution_count": 16,
     "metadata": {},
     "output_type": "execute_result"
    }
   ],
   "source": [
    "print(\"Intercept: \", lr.intercept_)\n",
    "print(\"Coefficients:\")\n",
    "list(zip(X, lr.coef_))"
   ]
  },
  {
   "cell_type": "code",
   "execution_count": 17,
   "id": "a988aab7",
   "metadata": {},
   "outputs": [
    {
     "name": "stdout",
     "output_type": "stream",
     "text": [
      "Prediction for test set: [139.18444902 -29.58567698  66.76898307 ... 102.00260784 -23.01343454\n",
      " 121.50302442]\n"
     ]
    }
   ],
   "source": [
    "print(\"Prediction for test set: {}\".format(Y_pred_lr))"
   ]
  },
  {
   "cell_type": "code",
   "execution_count": 19,
   "id": "18706f07",
   "metadata": {},
   "outputs": [
    {
     "data": {
      "text/html": [
       "<div>\n",
       "<style scoped>\n",
       "    .dataframe tbody tr th:only-of-type {\n",
       "        vertical-align: middle;\n",
       "    }\n",
       "\n",
       "    .dataframe tbody tr th {\n",
       "        vertical-align: top;\n",
       "    }\n",
       "\n",
       "    .dataframe thead th {\n",
       "        text-align: right;\n",
       "    }\n",
       "</style>\n",
       "<table border=\"1\" class=\"dataframe\">\n",
       "  <thead>\n",
       "    <tr style=\"text-align: right;\">\n",
       "      <th></th>\n",
       "      <th>Actual value</th>\n",
       "      <th>Predicted value</th>\n",
       "    </tr>\n",
       "  </thead>\n",
       "  <tbody>\n",
       "    <tr>\n",
       "      <th>872977</th>\n",
       "      <td>138.785278</td>\n",
       "      <td>139.184449</td>\n",
       "    </tr>\n",
       "    <tr>\n",
       "      <th>585215</th>\n",
       "      <td>-30.873657</td>\n",
       "      <td>-29.585677</td>\n",
       "    </tr>\n",
       "    <tr>\n",
       "      <th>886343</th>\n",
       "      <td>66.782227</td>\n",
       "      <td>66.768983</td>\n",
       "    </tr>\n",
       "    <tr>\n",
       "      <th>1092997</th>\n",
       "      <td>-29.844849</td>\n",
       "      <td>-30.680949</td>\n",
       "    </tr>\n",
       "    <tr>\n",
       "      <th>861661</th>\n",
       "      <td>39.706909</td>\n",
       "      <td>40.053635</td>\n",
       "    </tr>\n",
       "  </tbody>\n",
       "</table>\n",
       "</div>"
      ],
      "text/plain": [
       "         Actual value  Predicted value\n",
       "872977     138.785278       139.184449\n",
       "585215     -30.873657       -29.585677\n",
       "886343      66.782227        66.768983\n",
       "1092997    -29.844849       -30.680949\n",
       "861661      39.706909        40.053635"
      ]
     },
     "execution_count": 19,
     "metadata": {},
     "output_type": "execute_result"
    }
   ],
   "source": [
    "lr_diff = pd.DataFrame({'Actual value': Y_test, 'Predicted value': Y_pred_lr})\n",
    "lr_diff.head()"
   ]
  },
  {
   "cell_type": "markdown",
   "id": "c4eefed8",
   "metadata": {},
   "source": [
    "### Model Accuracy"
   ]
  },
  {
   "cell_type": "code",
   "execution_count": 21,
   "id": "ffa3fb4b",
   "metadata": {},
   "outputs": [
    {
     "name": "stdout",
     "output_type": "stream",
     "text": [
      "R squared: 73.82\n",
      "Mean Absolute Error: 19.52236741431941\n",
      "Mean Square Error: 5232.797091307233\n",
      "Root Mean Square Error: 72.33807497651036\n"
     ]
    }
   ],
   "source": [
    "meanAbErr = mean_absolute_error(Y_test, Y_pred_lr)\n",
    "meanSqErr = mean_squared_error(Y_test, Y_pred_lr)\n",
    "rootMeanSqErr = np.sqrt(metrics.mean_squared_error(Y_test, Y_pred_lr))\n",
    "print('R squared: {:.2f}'.format(lr.score(X,Y)*100))\n",
    "print('Mean Absolute Error:', meanAbErr)\n",
    "print('Mean Square Error:', meanSqErr)\n",
    "print('Root Mean Square Error:', rootMeanSqErr)"
   ]
  },
  {
   "cell_type": "code",
   "execution_count": 11,
   "id": "86838a9c",
   "metadata": {},
   "outputs": [
    {
     "data": {
      "text/plain": [
       "0.6337939351296515"
      ]
     },
     "execution_count": 11,
     "metadata": {},
     "output_type": "execute_result"
    }
   ],
   "source": [
    "r2_score(Y_pred_lr,Y_test)"
   ]
  },
  {
   "cell_type": "markdown",
   "id": "235c0416",
   "metadata": {},
   "source": [
    "## Ridge Linear Regression "
   ]
  },
  {
   "cell_type": "markdown",
   "id": "fb2f15e1",
   "metadata": {},
   "source": [
    "### Initializing and Training the Model on Training Dataset"
   ]
  },
  {
   "cell_type": "code",
   "execution_count": 9,
   "id": "f48a2132",
   "metadata": {},
   "outputs": [
    {
     "name": "stderr",
     "output_type": "stream",
     "text": [
      "C:\\Users\\Acer\\anaconda3\\lib\\site-packages\\sklearn\\linear_model\\_ridge.py:147: LinAlgWarning: Ill-conditioned matrix (rcond=4.07553e-18): result may not be accurate.\n",
      "  return linalg.solve(A, Xy, sym_pos=True,\n"
     ]
    },
    {
     "data": {
      "text/plain": [
       "Ridge()"
      ]
     },
     "execution_count": 9,
     "metadata": {},
     "output_type": "execute_result"
    }
   ],
   "source": [
    "ridge = Ridge(alpha=1.0)\n",
    "ridge.fit(X_train, Y_train)"
   ]
  },
  {
   "cell_type": "markdown",
   "id": "ec1dc736",
   "metadata": {},
   "source": [
    "### Predicting outcome of the test dataset"
   ]
  },
  {
   "cell_type": "code",
   "execution_count": 12,
   "id": "97927da6",
   "metadata": {},
   "outputs": [],
   "source": [
    "Y_pred_ridge = ridge.predict(X_test)"
   ]
  },
  {
   "cell_type": "markdown",
   "id": "4821fb63",
   "metadata": {},
   "source": [
    "## Evaluating the Model"
   ]
  },
  {
   "cell_type": "code",
   "execution_count": 22,
   "id": "c2f64762",
   "metadata": {},
   "outputs": [
    {
     "name": "stdout",
     "output_type": "stream",
     "text": [
      "Intercept:  -11284.021905921305\n",
      "Coefficients:\n"
     ]
    },
    {
     "data": {
      "text/plain": [
       "[('Unnamed: 0', -2.0597473149608333e-05),\n",
       " ('State_Andhra Pradesh', -6.279329884009104),\n",
       " ('State_Arunachal Pradesh', -6.2086673258319),\n",
       " ('State_Assam', 0.7728976302734619),\n",
       " ('State_Bihar', 4.166796519386239),\n",
       " ('State_Goa', -0.6688423255853986),\n",
       " ('State_Gujarat', -5.7118015523230445),\n",
       " ('State_Haryana', 0.6179706968985198),\n",
       " ('State_Himachal Pradesh', 0.004026788599528433),\n",
       " ('State_Jammu Kashmir', -3.0184504908407286),\n",
       " ('State_Jharkhand', 0.8516514971315746),\n",
       " ('State_Karnataka', -4.133665800027552),\n",
       " ('State_Kerala', -5.596661747485178),\n",
       " ('State_Madhya Pradesh', -2.593582860085435),\n",
       " ('State_Maharashtra', 1.2944633080486772),\n",
       " ('State_Manipur', 10.375466116292149),\n",
       " ('State_Meghalaya', -2.4498541325260508),\n",
       " ('State_Mizoram', 4.785243257282977),\n",
       " ('State_Nagaland', 0.4917245739896166),\n",
       " ('State_National Capital', -2.3715491928564165),\n",
       " ('State_Orissa', -8.818676448323151),\n",
       " ('State_Punjab', 0.06999208902500959),\n",
       " ('State_Rajasthan', -0.8418839301605241),\n",
       " ('State_Sikkim', 11.812435564041545),\n",
       " ('State_Tamil Nadu', -7.012344943555278),\n",
       " ('State_Telangana', -3.9133608939156765),\n",
       " ('State_Tripura', 3.3401709771640564),\n",
       " ('State_Union Territories', -0.6663543705443111),\n",
       " ('State_Uttar Pradesh', 2.260898093362909),\n",
       " ('State_Uttarakhand', 13.119979414112862),\n",
       " ('State_West Bengal', 6.321309342529056),\n",
       " ('Centre_Chittoor', -3.0718423033307776),\n",
       " ('Centre_Guntur', 6.337435399137146),\n",
       " ('Centre_Kurnool', -8.067461123911128),\n",
       " ('Centre_Vishakhapatnam', -1.4774618555859405),\n",
       " ('Centre_Itanagar', -6.208667325821134),\n",
       " ('Centre_Dibrugarh', 3.284644284930384),\n",
       " ('Centre_Dispur', -1.1102199257122274),\n",
       " ('Centre_Guwahati', -0.2831967457986835),\n",
       " ('Centre_Silchar', -1.1183299856068427),\n",
       " ('Centre_Gaya', -1.2601606187345509),\n",
       " ('Centre_Hajipur', 1.6844609045521848),\n",
       " ('Centre_Muzaffarpur', 4.206285272752452),\n",
       " ('Centre_Patna', -0.4637890415716568),\n",
       " ('Centre_Panaji', -0.6688423255827388),\n",
       " ('Centre_Gandhi Nagar', -4.807606128000253),\n",
       " ('Centre_Rajkot', 4.0119825807869125),\n",
       " ('Centre_Surat', -11.366379266065495),\n",
       " ('Centre_Vadodra', 6.450201262342564),\n",
       " ('Centre_Hissar', -0.545999028121795),\n",
       " ('Centre_Karnal', 1.1639697253487131),\n",
       " ('Centre_Mandi', -2.2542966719022917),\n",
       " ('Centre_Shimla', 2.2583234546349518),\n",
       " ('Centre_Jammu', -1.4042336667421824),\n",
       " ('Centre_Shrinagar', -1.6142168243605055),\n",
       " ('Centre_Dhanbad', -0.8418005885075062),\n",
       " ('Centre_Ranchi', 1.6934520877857788),\n",
       " ('Centre_Bangalore', -3.6586917187349357),\n",
       " ('Centre_Bijapur', -6.59083072432871),\n",
       " ('Centre_Hubli', 13.66036179372745),\n",
       " ('Centre_Tumkur', -7.544505151761943),\n",
       " ('Centre_Ernakulam', -3.5743112144558875),\n",
       " ('Centre_Khozhikode', -1.6945325624380703),\n",
       " ('Centre_Trivandrum', -0.32781796895767107),\n",
       " ('Centre_Bhillai', 7.869358250373527),\n",
       " ('Centre_Bhopal', 0.8380775526684612),\n",
       " ('Centre_Gwalior', -7.59896226995714),\n",
       " ('Centre_Indore', -11.153574338796526),\n",
       " ('Centre_Rewa', 10.317983138125115),\n",
       " ('Centre_Sehore', -2.866465190792505),\n",
       " ('Centre_Aurangabad', -8.87878642096523),\n",
       " ('Centre_Mumbai', 6.181786764012239),\n",
       " ('Centre_Nagpur', 5.597985534946663),\n",
       " ('Centre_Nasik', -2.0855480697154447),\n",
       " ('Centre_Pune', 0.479025501415052),\n",
       " ('Centre_Imphal', 10.375466116177918),\n",
       " ('Centre_Shillong', -2.4498541325240075),\n",
       " ('Centre_Aizwal', 4.785243257306649),\n",
       " ('Centre_Kohima', 0.49172457397734215),\n",
       " ('Centre_Delhi', -2.371549192852212),\n",
       " ('Centre_Bhawanipatna', -8.29918888912828),\n",
       " ('Centre_Bhubneshwar', 1.1019749261706846),\n",
       " ('Centre_Cuttack', -1.6214624777733122),\n",
       " ('Centre_Amritsar', 2.576858654656847),\n",
       " ('Centre_Bhatinda', 2.847307577005772),\n",
       " ('Centre_Ludhiana', -5.354174149004481),\n",
       " ('Centre_Dausa', -1.2936997832892132),\n",
       " ('Centre_Jaipur', 3.6052505289626318),\n",
       " ('Centre_Jodhpur', -2.987440434433878),\n",
       " ('Centre_Swaimadhopur', -4.9730328009558455),\n",
       " ('Centre_Udaipur', 4.807038561019573),\n",
       " ('Centre_Gangtok', 11.812435564192755),\n",
       " ('Centre_Chennai', 7.521638655308071),\n",
       " ('Centre_Coimbatore', 2.4967648350409495),\n",
       " ('Centre_Madurai', -4.470895313534026),\n",
       " ('Centre_Salem', -0.17237205463006608),\n",
       " ('Centre_Tambram', -9.939466374192403),\n",
       " ('Centre_Tirunelveli', -2.4480146896445096),\n",
       " ('Centre_Hyderabad', -3.91336089393311),\n",
       " ('Centre_Agartala', 3.3401709772149664),\n",
       " ('Centre_Chandigarh', -6.833032617438471),\n",
       " ('Centre_Pondicherry', -8.702388379912513),\n",
       " ('Centre_Portblair', 10.935167405872306),\n",
       " ('Centre_Silvasa', 3.9338992229125864),\n",
       " ('Centre_Agra', 1.1852572515566175),\n",
       " ('Centre_Allahabad', 7.063444086945939),\n",
       " ('Centre_Gorakhpur', -3.6806864148585614),\n",
       " ('Centre_Kanpur', -4.1477267490610155),\n",
       " ('Centre_Lucknow', -0.9664332278572151),\n",
       " ('Centre_Saharanpur', 2.8070431484659233),\n",
       " ('Centre_Haldwani', 10.684915939381215),\n",
       " ('Centre_Srinagar', 2.4350634678553496),\n",
       " ('Centre_Asansol', -8.252118413719883),\n",
       " ('Centre_Howrah', 3.208721236529474),\n",
       " ('Centre_Jalpaiguri', -13.166642113172644),\n",
       " ('Centre_Kolkata', -1.9298576109751047),\n",
       " ('Centre_Malda', 26.461206244715303),\n",
       " ('Commodity_Moong', -75.74181890114443),\n",
       " ('Commodity_Not Available', -27.911529087028264),\n",
       " ('Commodity_Mustard Oil', -35.241084023074905),\n",
       " ('Commodity_Onion', -4.1600974980036165),\n",
       " ('Commodity_Potato', -9.503456605211356),\n",
       " ('Commodity_Ragi', -0.0842506058463994),\n",
       " ('Commodity_Red Chillies', -6.0387391413503915),\n",
       " ('Commodity_Rice', 16.709667969670036),\n",
       " ('Commodity_Salt', 7.215653154246352),\n",
       " ('Commodity_Sugar', 5.537084900005169),\n",
       " ('Commodity_Suji', 0.7546730118082398),\n",
       " ('Commodity_Tea', 10.675214973242936),\n",
       " ('Commodity_Apple', 35.9178733000381),\n",
       " ('Commodity_Arhar', -73.90075647141556),\n",
       " ('Commodity_Atta', 1.4682725678002062),\n",
       " ('Commodity_Bajra', -2.846037151401867),\n",
       " ('Commodity_Banana', 0.4749424071418202),\n",
       " ('Commodity_Besan', 36.14849531813791),\n",
       " ('Commodity_Biscuit', -37.70747353195418),\n",
       " ('Commodity_Groundnut Oil', -11.470705852378584),\n",
       " ('Commodity_Gur', 5.434845587192469),\n",
       " ('Commodity_Jowar', -19.379254133482178),\n",
       " ('Commodity_Maida', 6.644429148105248),\n",
       " ('Commodity_Maize', -1.4865233542880578),\n",
       " ('Commodity_Masur', -82.76391977802928),\n",
       " ('Commodity_Meat', -22.26675032933421),\n",
       " ('Commodity_Milk', -34.07536142914278),\n",
       " ('Commodity_Coriander', 4.215959599469409),\n",
       " ('Commodity_Cummin Seed', 29.22671457867661),\n",
       " ('Commodity_Eggs', 22.03429467517001),\n",
       " ('Commodity_Fish', -35.061001944303236),\n",
       " ('Commodity_Ghee', 51.27301570954056),\n",
       " ('Commodity_Gingelly Oil', 18.581907190775013),\n",
       " ('Commodity_Gram', -84.55704412850777),\n",
       " ('Commodity_Black Pepper', 281.87803892918004),\n",
       " ('Commodity_Bread', 8.173596110139975),\n",
       " ('Commodity_Brinjal', 11.870297756290821),\n",
       " ('Commodity_Butter', 8.413345647987661),\n",
       " ('Commodity_Chicken', 8.67025896678819),\n",
       " ('Commodity_Coconut', 10.984175647095112),\n",
       " ('Commodity_Coconut Oil', 42.51645288266565),\n",
       " ('Commodity_Coffee', 245.31662812107967),\n",
       " ('Commodity_Tomato', 15.351449601550543),\n",
       " ('Commodity_Turmeric', 11.787660989838951),\n",
       " ('Commodity_Urad', -56.57526687445154),\n",
       " ('Commodity_Vanaspati', -34.75088562526077),\n",
       " ('Commodity_Wheat', -241.75298936073534),\n",
       " ('Variety_Split', 15.287216594328488),\n",
       " ('Variety_FAQ', -104.73017677588709),\n",
       " ('Variety_Powdered Agmark', -37.93118150050319),\n",
       " ('Variety_Common/Coarse', -123.95730708668349),\n",
       " ('Variety_Fine', -115.16914579667299),\n",
       " ('Variety_Superfine', -103.83672862341547),\n",
       " ('Variety_Loose(common)', -127.21283452226506),\n",
       " ('Variety_Packet(iodized)', -129.70074966959075),\n",
       " ('Variety_Brooke Bond Red Label', -30.088649133612567),\n",
       " ('Variety_Ctc(loose)', 40.76386407917699),\n",
       " ('Variety_Delicious medium size', -69.56066554993465),\n",
       " ('Variety_Glucose', -37.70747353209378),\n",
       " ('Variety_Local', -91.11180471349451),\n",
       " ('Variety_White', -80.93605831120175),\n",
       " ('Variety_Mutton', 195.66377876709203),\n",
       " ('Variety_Cow/Buffalo', -15.981438171177),\n",
       " ('Variety_Dairy', -18.093923256519236),\n",
       " ('Variety_Common', 41.40060951674691),\n",
       " ('Variety_Cat Fish', 107.14361238795678),\n",
       " ('Variety_Pomphret', 187.43359528776014),\n",
       " ('Variety_Rohu 1Kg Size', 24.213368619192863),\n",
       " ('Variety_Desi', 149.79618720682237),\n",
       " ('Variety_Whole', 16.806707417690728),\n",
       " ('Variety_Amul/Any Other', -23.051359352184257),\n",
       " ('Variety_Poultry', 1.3599608611460998),\n",
       " ('Variety_Dry', -14.744139471963665),\n",
       " ('Variety_Fresh', -52.486477504901934),\n",
       " ('Variety_Instant', 76.82920420838254),\n",
       " ('Variety_Powdered', 168.48742082954092),\n",
       " ('Variety_Kalyan HYV', 151.1145871030284),\n",
       " ('Unit_Kg.', 5.321945968157983),\n",
       " ('Unit_Kg/Litre', 102.92897970501595),\n",
       " ('Unit_100gm. Pkt', -60.982540852682796),\n",
       " ('Unit_250gm. Pkt', -30.088649133620105),\n",
       " ('Unit_Dozen', 13.471021441777616),\n",
       " ('Unit_80gm. Pkt', -37.70747353230215),\n",
       " ('Unit_Litre', -34.075361429349954),\n",
       " ('Unit_Kg', 24.21336861884868),\n",
       " ('Unit_400/800 Gm', -7.424017570698751),\n",
       " ('Unit_Peice', -52.48647750468537),\n",
       " ('Unit_500gm. Pkt', 76.8292042076221),\n",
       " ('Month', 0.4841333361461335),\n",
       " ('Year', 5.672696058530497)]"
      ]
     },
     "execution_count": 22,
     "metadata": {},
     "output_type": "execute_result"
    }
   ],
   "source": [
    "print(\"Intercept: \", ridge.intercept_)\n",
    "print(\"Coefficients:\")\n",
    "list(zip(X, ridge.coef_))"
   ]
  },
  {
   "cell_type": "code",
   "execution_count": 23,
   "id": "37a261cc",
   "metadata": {},
   "outputs": [
    {
     "name": "stdout",
     "output_type": "stream",
     "text": [
      "Prediction for test set: [139.1776888  -29.61634934  66.77280663 ... 101.99581028 -22.99305573\n",
      " 121.50115856]\n"
     ]
    }
   ],
   "source": [
    "print(\"Prediction for test set: {}\".format(Y_pred_ridge))"
   ]
  },
  {
   "cell_type": "code",
   "execution_count": 24,
   "id": "0eb9fbec",
   "metadata": {},
   "outputs": [
    {
     "data": {
      "text/html": [
       "<div>\n",
       "<style scoped>\n",
       "    .dataframe tbody tr th:only-of-type {\n",
       "        vertical-align: middle;\n",
       "    }\n",
       "\n",
       "    .dataframe tbody tr th {\n",
       "        vertical-align: top;\n",
       "    }\n",
       "\n",
       "    .dataframe thead th {\n",
       "        text-align: right;\n",
       "    }\n",
       "</style>\n",
       "<table border=\"1\" class=\"dataframe\">\n",
       "  <thead>\n",
       "    <tr style=\"text-align: right;\">\n",
       "      <th></th>\n",
       "      <th>Actual value</th>\n",
       "      <th>Predicted value</th>\n",
       "    </tr>\n",
       "  </thead>\n",
       "  <tbody>\n",
       "    <tr>\n",
       "      <th>872977</th>\n",
       "      <td>138.785278</td>\n",
       "      <td>139.177689</td>\n",
       "    </tr>\n",
       "    <tr>\n",
       "      <th>585215</th>\n",
       "      <td>-30.873657</td>\n",
       "      <td>-29.616349</td>\n",
       "    </tr>\n",
       "    <tr>\n",
       "      <th>886343</th>\n",
       "      <td>66.782227</td>\n",
       "      <td>66.772807</td>\n",
       "    </tr>\n",
       "    <tr>\n",
       "      <th>1092997</th>\n",
       "      <td>-29.844849</td>\n",
       "      <td>-30.656373</td>\n",
       "    </tr>\n",
       "    <tr>\n",
       "      <th>861661</th>\n",
       "      <td>39.706909</td>\n",
       "      <td>40.048943</td>\n",
       "    </tr>\n",
       "  </tbody>\n",
       "</table>\n",
       "</div>"
      ],
      "text/plain": [
       "         Actual value  Predicted value\n",
       "872977     138.785278       139.177689\n",
       "585215     -30.873657       -29.616349\n",
       "886343      66.782227        66.772807\n",
       "1092997    -29.844849       -30.656373\n",
       "861661      39.706909        40.048943"
      ]
     },
     "execution_count": 24,
     "metadata": {},
     "output_type": "execute_result"
    }
   ],
   "source": [
    "ridge_diff = pd.DataFrame({'Actual value': Y_test, 'Predicted value': Y_pred_ridge})\n",
    "ridge_diff.head()"
   ]
  },
  {
   "cell_type": "markdown",
   "id": "07a46a37",
   "metadata": {},
   "source": [
    "### Model Accuracy"
   ]
  },
  {
   "cell_type": "code",
   "execution_count": 25,
   "id": "8de69112",
   "metadata": {},
   "outputs": [
    {
     "name": "stdout",
     "output_type": "stream",
     "text": [
      "R squared: 73.82\n",
      "Mean Absolute Error: 19.518488633159006\n",
      "Mean Square Error: 5232.809460949641\n",
      "Root Mean Square Error: 72.33816047529575\n"
     ]
    }
   ],
   "source": [
    "meanAbErr = mean_absolute_error(Y_test, Y_pred_ridge)\n",
    "meanSqErr = mean_squared_error(Y_test, Y_pred_ridge)\n",
    "rootMeanSqErr = np.sqrt(metrics.mean_squared_error(Y_test, Y_pred_ridge))\n",
    "print('R squared: {:.2f}'.format(lr.score(X,Y)*100))\n",
    "print('Mean Absolute Error:', meanAbErr)\n",
    "print('Mean Square Error:', meanSqErr)\n",
    "print('Root Mean Square Error:', rootMeanSqErr)"
   ]
  },
  {
   "cell_type": "code",
   "execution_count": 13,
   "id": "d8552156",
   "metadata": {},
   "outputs": [
    {
     "data": {
      "text/plain": [
       "0.6337603240317083"
      ]
     },
     "execution_count": 13,
     "metadata": {},
     "output_type": "execute_result"
    }
   ],
   "source": [
    "r2_score(Y_pred_ridge,Y_test)"
   ]
  }
 ],
 "metadata": {
  "kernelspec": {
   "display_name": "Python 3",
   "language": "python",
   "name": "python3"
  },
  "language_info": {
   "codemirror_mode": {
    "name": "ipython",
    "version": 3
   },
   "file_extension": ".py",
   "mimetype": "text/x-python",
   "name": "python",
   "nbconvert_exporter": "python",
   "pygments_lexer": "ipython3",
   "version": "3.8.8"
  }
 },
 "nbformat": 4,
 "nbformat_minor": 5
}
